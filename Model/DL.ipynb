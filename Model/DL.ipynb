{
  "nbformat": 4,
  "nbformat_minor": 0,
  "metadata": {
    "colab": {
      "provenance": []
    },
    "kernelspec": {
      "name": "python3",
      "display_name": "Python 3"
    },
    "language_info": {
      "name": "python"
    }
  },
  "cells": [
    {
      "cell_type": "code",
      "execution_count": 3,
      "metadata": {
        "id": "jQAFXsfV0Qr1"
      },
      "outputs": [],
      "source": [
        "import re\n",
        "import pandas as pd\n",
        "from sklearn.linear_model import LogisticRegression\n",
        "from sklearn.pipeline import Pipeline\n",
        "from sklearn.feature_extraction.text import CountVectorizer, TfidfVectorizer\n",
        "from xgboost import XGBClassifier\n",
        "import optuna\n",
        "from sklearn.metrics import accuracy_score, f1_score, precision_score, recall_score\n",
        "import spacy\n",
        "import numpy as np\n",
        "import pickle\n",
        "import tensorflow as tf\n",
        "from tensorflow.keras.models import Sequential\n",
        "from tensorflow.keras.layers import Embedding, SimpleRNN, Dense, Dropout\n",
        "from tensorflow.keras.preprocessing.text import Tokenizer\n",
        "from tensorflow.keras.preprocessing.sequence import pad_sequences"
      ]
    },
    {
      "cell_type": "markdown",
      "source": [
        "### **Data Reading**"
      ],
      "metadata": {
        "id": "N7YwRZcwVxKD"
      }
    },
    {
      "cell_type": "code",
      "source": [
        "train_data = pd.read_csv('train_data.csv')\n",
        "test_data = pd.read_csv('test_data.csv')"
      ],
      "metadata": {
        "id": "ovWApVf60ZEw"
      },
      "execution_count": 11,
      "outputs": []
    },
    {
      "cell_type": "code",
      "source": [
        "train_data = train_data.dropna()"
      ],
      "metadata": {
        "id": "I42VNehv2tQa"
      },
      "execution_count": 12,
      "outputs": []
    },
    {
      "cell_type": "code",
      "source": [
        "test_data = test_data.dropna()"
      ],
      "metadata": {
        "id": "YxRIzVHb2uEX"
      },
      "execution_count": 13,
      "outputs": []
    },
    {
      "cell_type": "markdown",
      "source": [
        "### **Data Splitting**"
      ],
      "metadata": {
        "id": "18_-2kBGV5d8"
      }
    },
    {
      "cell_type": "code",
      "source": [
        "x_train, y_train, x_test, y_test = train_data['text'], train_data['dialect'], test_data['text'], test_data['dialect']"
      ],
      "metadata": {
        "id": "MdHZU27O2kBI"
      },
      "execution_count": 14,
      "outputs": []
    },
    {
      "cell_type": "markdown",
      "source": [
        "### **Data Preparation**"
      ],
      "metadata": {
        "id": "CM2tzSQLV-5B"
      }
    },
    {
      "cell_type": "code",
      "source": [
        "tokenizer = Tokenizer()\n",
        "tokenizer.fit_on_texts(x_train)\n",
        "\n",
        "x_train_sequence = tokenizer.texts_to_sequences(x_train)\n",
        "x_test_sequence = tokenizer.texts_to_sequences(x_test)"
      ],
      "metadata": {
        "id": "LVuuNk6M0eBv"
      },
      "execution_count": 60,
      "outputs": []
    },
    {
      "cell_type": "code",
      "source": [
        "max_sequence_len = 100\n",
        "x_train_padded = pad_sequences(x_train_sequence, maxlen=max_sequence_len, padding='post')\n",
        "x_test_padded = pad_sequences(x_test_sequence, maxlen=max_sequence_len, padding='post')"
      ],
      "metadata": {
        "id": "ux1PmPw-0loT"
      },
      "execution_count": 17,
      "outputs": []
    },
    {
      "cell_type": "code",
      "source": [
        "y_train_cat = np.eye(5)[y_train]\n",
        "y_test_cat = np.eye(5)[y_test]"
      ],
      "metadata": {
        "id": "lLi9xg5x0sHl"
      },
      "execution_count": 18,
      "outputs": []
    },
    {
      "cell_type": "code",
      "source": [
        "vocab_size = len(tokenizer.word_index) + 1\n",
        "vocab_size"
      ],
      "metadata": {
        "colab": {
          "base_uri": "https://localhost:8080/"
        },
        "id": "qXIHW07Z0tDJ",
        "outputId": "ea6893f2-d02a-4c98-c76d-4a66df2aab82"
      },
      "execution_count": 19,
      "outputs": [
        {
          "output_type": "execute_result",
          "data": {
            "text/plain": [
              "214200"
            ]
          },
          "metadata": {},
          "execution_count": 19
        }
      ]
    },
    {
      "cell_type": "markdown",
      "source": [
        "### **Second Model**"
      ],
      "metadata": {
        "id": "VCbhOg3hWHlB"
      }
    },
    {
      "cell_type": "code",
      "source": [
        "model = Sequential([\n",
        "    Embedding(vocab_size, 64),\n",
        "    SimpleRNN(64),\n",
        "    Dense(64, activation='relu'),\n",
        "    Dense(5, activation='softmax')\n",
        "])"
      ],
      "metadata": {
        "id": "wuEEWCqa0wnC"
      },
      "execution_count": 20,
      "outputs": []
    },
    {
      "cell_type": "code",
      "source": [
        "model.compile(optimizer='adam', loss='categorical_crossentropy', metrics=['accuracy'])"
      ],
      "metadata": {
        "id": "2hMvqlao01tT"
      },
      "execution_count": 21,
      "outputs": []
    },
    {
      "cell_type": "code",
      "source": [
        "model.summary()"
      ],
      "metadata": {
        "colab": {
          "base_uri": "https://localhost:8080/"
        },
        "id": "-yNkFTOn3b-O",
        "outputId": "3b9ab7fd-1138-45bd-8aaf-07ce6dc29a95"
      },
      "execution_count": 22,
      "outputs": [
        {
          "output_type": "stream",
          "name": "stdout",
          "text": [
            "Model: \"sequential\"\n",
            "_________________________________________________________________\n",
            " Layer (type)                Output Shape              Param #   \n",
            "=================================================================\n",
            " embedding (Embedding)       (None, None, 64)          13708800  \n",
            "                                                                 \n",
            " simple_rnn (SimpleRNN)      (None, 64)                8256      \n",
            "                                                                 \n",
            " dense (Dense)               (None, 64)                4160      \n",
            "                                                                 \n",
            " dense_1 (Dense)             (None, 5)                 325       \n",
            "                                                                 \n",
            "=================================================================\n",
            "Total params: 13721541 (52.34 MB)\n",
            "Trainable params: 13721541 (52.34 MB)\n",
            "Non-trainable params: 0 (0.00 Byte)\n",
            "_________________________________________________________________\n"
          ]
        }
      ]
    },
    {
      "cell_type": "code",
      "source": [
        "history = model.fit(x_train_padded, y_train_cat, epochs=10, batch_size=32)"
      ],
      "metadata": {
        "colab": {
          "base_uri": "https://localhost:8080/"
        },
        "id": "ZvXK5yeC06XO",
        "outputId": "176f5ca4-a1d9-44c8-a044-e4a8cec0774f"
      },
      "execution_count": 23,
      "outputs": [
        {
          "output_type": "stream",
          "name": "stdout",
          "text": [
            "Epoch 1/10\n",
            "3693/3693 [==============================] - 1391s 376ms/step - loss: 1.4558 - accuracy: 0.3899\n",
            "Epoch 2/10\n",
            "3693/3693 [==============================] - 1413s 383ms/step - loss: 1.4529 - accuracy: 0.3908\n",
            "Epoch 3/10\n",
            "3693/3693 [==============================] - 1400s 379ms/step - loss: 1.4527 - accuracy: 0.3909\n",
            "Epoch 4/10\n",
            "3693/3693 [==============================] - 1413s 382ms/step - loss: 1.4530 - accuracy: 0.3908\n",
            "Epoch 5/10\n",
            "3693/3693 [==============================] - 1435s 388ms/step - loss: 1.4528 - accuracy: 0.3909\n",
            "Epoch 6/10\n",
            "3693/3693 [==============================] - 1416s 384ms/step - loss: 1.4527 - accuracy: 0.3909\n",
            "Epoch 7/10\n",
            "3693/3693 [==============================] - 1403s 380ms/step - loss: 1.4528 - accuracy: 0.3909\n",
            "Epoch 8/10\n",
            "3693/3693 [==============================] - 1397s 378ms/step - loss: 1.4528 - accuracy: 0.3909\n",
            "Epoch 9/10\n",
            "3693/3693 [==============================] - 1410s 382ms/step - loss: 1.4527 - accuracy: 0.3909\n",
            "Epoch 10/10\n",
            "3693/3693 [==============================] - 1395s 378ms/step - loss: 1.4529 - accuracy: 0.3908\n"
          ]
        }
      ]
    },
    {
      "cell_type": "code",
      "source": [
        "def dialect_predict(sentence):\n",
        "\n",
        "  dialect = int(np.argmax(model.predict(sentence), axis=1)[0])\n",
        "\n",
        "  if dialect == 0:\n",
        "    country = \"Egypt\"\n",
        "\n",
        "  elif  dialect == 1 :\n",
        "    country = \"Lebnanon\"\n",
        "\n",
        "  elif dialect ==   2 :\n",
        "    country = \"Libya\"\n",
        "\n",
        "  elif dialect == 3:\n",
        "    country = \"Morocco\"\n",
        "\n",
        "  else:\n",
        "    country = \"Sudan\"\n",
        "\n",
        "  return country"
      ],
      "metadata": {
        "id": "LK47UfCr1Agm"
      },
      "execution_count": 49,
      "outputs": []
    },
    {
      "cell_type": "code",
      "source": [
        "sentence = [\" بالزاف \"]\n",
        "tokenizer.fit_on_texts(sentence)\n",
        "\n",
        "x_train_sequence = tokenizer.texts_to_sequences(sentence)\n",
        "x_train_sequence"
      ],
      "metadata": {
        "colab": {
          "base_uri": "https://localhost:8080/"
        },
        "id": "ikUTWsTjtvjq",
        "outputId": "a74d8cdc-eed0-426e-de7a-6760586b1921"
      },
      "execution_count": 71,
      "outputs": [
        {
          "output_type": "execute_result",
          "data": {
            "text/plain": [
              "[[28420]]"
            ]
          },
          "metadata": {},
          "execution_count": 71
        }
      ]
    },
    {
      "cell_type": "code",
      "source": [
        "max_sequence_len = 100\n",
        "x_train_padded = pad_sequences(x_train_sequence, maxlen=max_sequence_len, padding='post')\n",
        "x_train_padded"
      ],
      "metadata": {
        "colab": {
          "base_uri": "https://localhost:8080/"
        },
        "id": "OaQOS7twt36L",
        "outputId": "5088bb12-1641-4f42-9f22-de41e9022da4"
      },
      "execution_count": 72,
      "outputs": [
        {
          "output_type": "execute_result",
          "data": {
            "text/plain": [
              "array([[28420,     0,     0,     0,     0,     0,     0,     0,     0,\n",
              "            0,     0,     0,     0,     0,     0,     0,     0,     0,\n",
              "            0,     0,     0,     0,     0,     0,     0,     0,     0,\n",
              "            0,     0,     0,     0,     0,     0,     0,     0,     0,\n",
              "            0,     0,     0,     0,     0,     0,     0,     0,     0,\n",
              "            0,     0,     0,     0,     0,     0,     0,     0,     0,\n",
              "            0,     0,     0,     0,     0,     0,     0,     0,     0,\n",
              "            0,     0,     0,     0,     0,     0,     0,     0,     0,\n",
              "            0,     0,     0,     0,     0,     0,     0,     0,     0,\n",
              "            0,     0,     0,     0,     0,     0,     0,     0,     0,\n",
              "            0,     0,     0,     0,     0,     0,     0,     0,     0,\n",
              "            0]], dtype=int32)"
            ]
          },
          "metadata": {},
          "execution_count": 72
        }
      ]
    },
    {
      "cell_type": "code",
      "source": [
        "pred = model.predict(x_train_padded)"
      ],
      "metadata": {
        "colab": {
          "base_uri": "https://localhost:8080/"
        },
        "id": "NntYpt3wupCm",
        "outputId": "f50cb0e0-0429-4a89-adb5-24efe997bcbc"
      },
      "execution_count": 73,
      "outputs": [
        {
          "output_type": "stream",
          "name": "stdout",
          "text": [
            "1/1 [==============================] - 0s 24ms/step\n"
          ]
        }
      ]
    },
    {
      "cell_type": "code",
      "source": [
        "val = np.argmax(model.predict(x_train_padded), axis=1)[0]"
      ],
      "metadata": {
        "colab": {
          "base_uri": "https://localhost:8080/"
        },
        "id": "fL7co1QOuyBb",
        "outputId": "94ba1c1d-2c65-4767-f2f2-db8653b351b3"
      },
      "execution_count": 74,
      "outputs": [
        {
          "output_type": "stream",
          "name": "stdout",
          "text": [
            "1/1 [==============================] - 0s 32ms/step\n"
          ]
        }
      ]
    },
    {
      "cell_type": "code",
      "source": [
        "dialect_predict(x_train_padded)"
      ],
      "metadata": {
        "colab": {
          "base_uri": "https://localhost:8080/",
          "height": 53
        },
        "id": "Co6lgQlYvLds",
        "outputId": "5486c142-5bd7-4c5e-eb92-2dccc8621562"
      },
      "execution_count": 75,
      "outputs": [
        {
          "output_type": "stream",
          "name": "stdout",
          "text": [
            "1/1 [==============================] - 0s 23ms/step\n"
          ]
        },
        {
          "output_type": "execute_result",
          "data": {
            "text/plain": [
              "'Libya'"
            ],
            "application/vnd.google.colaboratory.intrinsic+json": {
              "type": "string"
            }
          },
          "metadata": {},
          "execution_count": 75
        }
      ]
    },
    {
      "cell_type": "code",
      "source": [],
      "metadata": {
        "id": "YL4WFAw7wHC1"
      },
      "execution_count": null,
      "outputs": []
    }
  ]
}